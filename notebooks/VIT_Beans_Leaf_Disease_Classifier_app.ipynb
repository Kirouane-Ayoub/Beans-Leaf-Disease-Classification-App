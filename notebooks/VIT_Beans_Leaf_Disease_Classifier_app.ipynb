{
  "nbformat": 4,
  "nbformat_minor": 0,
  "metadata": {
    "colab": {
      "provenance": []
    },
    "kernelspec": {
      "name": "python3",
      "display_name": "Python 3"
    },
    "language_info": {
      "name": "python"
    }
  },
  "cells": [
    {
      "cell_type": "code",
      "source": [
        "! pip -q install datasets  transformers[torch] Pillow gradio"
      ],
      "metadata": {
        "id": "TyaKowF8P8-d"
      },
      "execution_count": null,
      "outputs": []
    },
    {
      "cell_type": "code",
      "source": [
        "# Load model directly\n",
        "from transformers import AutoFeatureExtractor, AutoModelForImageClassification\n",
        "\n",
        "extractor = AutoFeatureExtractor.from_pretrained(\"ayoubkirouane/VIT_Beans_Leaf_Disease_Classifier\")\n",
        "model = AutoModelForImageClassification.from_pretrained(\"ayoubkirouane/VIT_Beans_Leaf_Disease_Classifier\")"
      ],
      "metadata": {
        "id": "qp1k3Jn8QOTl"
      },
      "execution_count": null,
      "outputs": []
    },
    {
      "cell_type": "code",
      "source": [
        "labels = ['angular_leaf_spot', 'bean_rust', 'healthy']"
      ],
      "metadata": {
        "id": "ffkaIDM3TqrE"
      },
      "execution_count": null,
      "outputs": []
    },
    {
      "cell_type": "code",
      "source": [
        "import torch"
      ],
      "metadata": {
        "id": "LLrSpJ8SUUNc"
      },
      "execution_count": null,
      "outputs": []
    },
    {
      "cell_type": "code",
      "source": [
        "def classify(im):\n",
        "  features = extractor(im, return_tensors='pt')\n",
        "  logits = model(features[\"pixel_values\"])[-1]\n",
        "  probability = torch.nn.functional.softmax(logits, dim=-1)\n",
        "  probs = probability[0].detach().numpy()\n",
        "  confidences = {label: float(probs[i]) for i, label in enumerate(labels)}\n",
        "  return confidences"
      ],
      "metadata": {
        "id": "omrDJMRoT27U"
      },
      "execution_count": null,
      "outputs": []
    },
    {
      "cell_type": "code",
      "source": [
        "import gradio as gr"
      ],
      "metadata": {
        "id": "RjF0aZOKT6A9"
      },
      "execution_count": null,
      "outputs": []
    },
    {
      "cell_type": "code",
      "source": [
        "interface = gr.Interface(\n",
        "    classify,\n",
        "    inputs='image',\n",
        "    outputs='label',\n",
        "    )\n",
        "\n",
        "interface.launch(share=True , debug=True)"
      ],
      "metadata": {
        "id": "3YbdEYJsT8vV"
      },
      "execution_count": null,
      "outputs": []
    }
  ]
}